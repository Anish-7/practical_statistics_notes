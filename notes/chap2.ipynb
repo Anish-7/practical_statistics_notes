{
 "cells": [
  {
   "cell_type": "markdown",
   "metadata": {},
   "source": [
    "    CHAPTER 2 : DATA AND SAMPLING DISTRIBUTIONS"
   ]
  },
  {
   "cell_type": "markdown",
   "metadata": {},
   "source": [
    "Population means the whole data  .. generally the large data set\n",
    "\n",
    "Sample means the subset data from the population"
   ]
  },
  {
   "cell_type": "markdown",
   "metadata": {},
   "source": [
    "Random sampling means that each member of the sample has equal probability to get chosen.\n",
    "\n",
    "Sampling with replacement means population member that is once chosen for a sample ..  is put back to the population to get another sample and the same population member have chance to get chosen once again\n",
    "\n",
    "Sampling concept is used in cross validation step to get sample of random or stratified sampling\n",
    "\n",
    "Dividing the population into strata and randomly sampling from each strata.(strata means homogenous subgroup of population with common characteristics)\n",
    "\n",
    "Bias-means leaning towards some representation which does not represent the population correctly \n",
    "for example taking only feedback from the rich.. deviates from population as it contains poor and middle class people"
   ]
  },
  {
   "cell_type": "markdown",
   "metadata": {},
   "source": [
    "    BIAS"
   ]
  },
  {
   "cell_type": "markdown",
   "metadata": {},
   "source": [
    "Statistical bais refer to the  sampling error that are systematic that is produced by the measurement process(taking feedback from only the rich) or by bias error occuring through the sampling(feedback is taken from all but the sampling is done such that it contains on ly rich people)"
   ]
  },
  {
   "cell_type": "markdown",
   "metadata": {},
   "source": [
    "Random sampling error is also an error but there is no systematic pattern to it"
   ]
  },
  {
   "cell_type": "markdown",
   "metadata": {},
   "source": [
    "     Quality vs quantity "
   ]
  },
  {
   "cell_type": "markdown",
   "metadata": {},
   "source": [
    "Always try to prefer the quality data over the quantity data\n",
    "\n",
    "A true big data problem is like search engine of google where more queries(quiers are stored as a records) helps to give out better results"
   ]
  },
  {
   "cell_type": "markdown",
   "metadata": {},
   "source": [
    "myu- Greek symbol is the mean of the population\n",
    "x bar is the symbol tht represents the mean of the sample "
   ]
  },
  {
   "cell_type": "markdown",
   "metadata": {},
   "source": [
    "     Sampling Distribution of a statistics"
   ]
  },
  {
   "cell_type": "code",
   "execution_count": 17,
   "metadata": {},
   "outputs": [],
   "source": [
    "import pandas as pd\n",
    "import seaborn as sns"
   ]
  },
  {
   "cell_type": "code",
   "execution_count": 84,
   "metadata": {},
   "outputs": [],
   "source": [
    "path='/home/anish/plan/practical_statistics_notes/data/loans_income.csv'\n",
    "loans_income=pd.read_csv(path)\n",
    "loans_income=loans_income\n"
   ]
  },
  {
   "cell_type": "code",
   "execution_count": 104,
   "metadata": {},
   "outputs": [
    {
     "data": {
      "text/plain": [
       "<seaborn.axisgrid.FacetGrid at 0x7ff99c33ecb0>"
      ]
     },
     "execution_count": 104,
     "metadata": {},
     "output_type": "execute_result"
    },
    {
     "data": {
      "image/png": "[encoded data removed]",
      "text/plain": [
       "<Figure size 900x300 with 3 Axes>"
      ]
     },
     "metadata": {},
     "output_type": "display_data"
    }
   ],
   "source": [
    "data_sample=pd.DataFrame({'income':loans_income.x.sample(1000),'type':'data'})\n",
    "\n",
    "m5=[loans_income.x.sample(5).mean() for _ in range(1000)]\n",
    "mean_5=pd.DataFrame({'income':m5,'type':'mean_5'})\n",
    "\n",
    "m20=[loans_income.x.sample(20).mean() for _ in range(1000)]\n",
    "mean_20=pd.DataFrame({'income':m20,'type':'mean_20'})\n",
    "\n",
    "res=pd.concat([data_sample,mean_5,mean_20])\n",
    "gridplot=sns.FacetGrid(res,col='type',col_wrap=3)\n",
    "\n",
    "gridplot.map(sns.histplot,'income',)"
   ]
  },
  {
   "cell_type": "code",
   "execution_count": null,
   "metadata": {},
   "outputs": [],
   "source": []
  }
 ],
 "metadata": {
  "kernelspec": {
   "display_name": "Python 3.10.6 64-bit",
   "language": "python",
   "name": "python3"
  },
  "language_info": {
   "codemirror_mode": {
    "name": "ipython",
    "version": 3
   },
   "file_extension": ".py",
   "mimetype": "text/x-python",
   "name": "python",
   "nbconvert_exporter": "python",
   "pygments_lexer": "ipython3",
   "version": "3.10.6"
  },
  "orig_nbformat": 4,
  "vscode": {
   "interpreter": {
    "hash": "916dbcbb3f70747c44a77c7bcd40155683ae19c65e1c03b4aa3499c5328201f1"
   }
  }
 },
 "nbformat": 4,
 "nbformat_minor": 2
}
