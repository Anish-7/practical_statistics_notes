{
 "cells": [
  {
   "cell_type": "markdown",
   "metadata": {},
   "source": [
    "    CHAPTER 3 : STATSTICAL EXPERIMENTS AND SIGNIFICANCE TESTING"
   ]
  },
  {
   "cell_type": "markdown",
   "metadata": {},
   "source": [
    "    Inference pipeline"
   ]
  },
  {
   "cell_type": "markdown",
   "metadata": {},
   "source": [
    "From here Inferential statistics starts\n",
    "\n",
    "Statistical Inference pipeline\n",
    "\n",
    "1. Formulate Hypothesis\n",
    "\n",
    "2. Design Experiment\n",
    "\n",
    "3. Collect data\n",
    "\n",
    "4. Inference"
   ]
  },
  {
   "cell_type": "markdown",
   "metadata": {},
   "source": [
    "    Introduction "
   ]
  },
  {
   "cell_type": "markdown",
   "metadata": {},
   "source": [
    "Hypothesis is like a statement (A is better than B)\n",
    "\n",
    "Null  hypothesis the statement that we are trying to prove\n",
    "\n",
    "The goal of the experiment is to confirm or reject null hypothesis \n",
    "\n",
    "The conclusion is drawn from the experimention using the set of samples . These conclusion result is then applied to the larger population"
   ]
  },
  {
   "cell_type": "markdown",
   "metadata": {},
   "source": [
    "    A/B testing"
   ]
  },
  {
   "cell_type": "markdown",
   "metadata": {},
   "source": [
    "A/B testing is an experiment with two groups\n",
    "\n",
    "A/B testing is commonly used in marketing and web design\n",
    "\n",
    "Common Terms in A/B testing\n",
    "\n",
    "1. Subjects - Items that are exposed to treatment\n",
    "\n",
    "2. Treatment - Something which exposed to subject or a group\n",
    "\n",
    "3. Control group - group which is not exposed to treatment or already with default treament as everybody\n",
    "\n",
    "4. Test Statistic - The metric used to measure Treatent effect\n",
    "\n",
    "Ideally the Subject should be assigned randomly,hence we can know that difference between treatment groups cn be of two reason:\n",
    "\n",
    "1. Real effect of treatment\n",
    "\n",
    "2.  By chance or random variation\n",
    "\n",
    "Ideally the Test Statistics should be decided before the experimentation is conducted , when the test statistics are choosed after the experiment then oit genearally lead to researchers bais \n",
    "\n",
    "Test Statistics are used to compare two groups:\n",
    "1. categorical - 2x2 matrix (like confusion matrix) are used to determine binary outcomes like conversion or no conversion vs price A or priceB\n",
    "\n",
    "2. Continious - Mean and standard deviation is compared between two groups .for example  Price A :revenue/page = mean=45 ,SD = 5.5 and Price B :revenue /page = mean =50 ,SD = 6.7\n",
    "\n",
    "Control Group is required whenever it is not there because we cannot estimate the effect of treatement is real or by chance\n",
    "\n",
    "Tradition Statistics focus on the result of the treatment(wheather the result is by choice or effect of treatment ) but the data scientist is not that bothered of that because they are more inclined towards knowning that result a is better or the result b is better\n",
    "\n",
    "For example : \n",
    "\n",
    "1. Data scientist is less concerned of knowing that difference between Price A  and Price B is statistically Significant (is it by chance or effect of the treatment)\n",
    "\n",
    "2. Data scientist is more concerned towards knowing that is Price A is better or Price B is better , which one to choose!! \n",
    "\n",
    "    That is which one of the multiple prices are the best \n",
    "\n",
    "For the data scientist multi arm bandit experimentation is used more than A/B testing \n",
    "\n",
    "Key points :\n",
    "\n",
    "1. Subjects must be randomly selected and assigned to the groups \n",
    "\n",
    "2. Subjects assigned randomly to the two groups are coinsidered alike but only the treatment they undergo is different"
   ]
  },
  {
   "cell_type": "markdown",
   "metadata": {},
   "source": [
    "    Hypothesis tests"
   ]
  },
  {
   "cell_type": "markdown",
   "metadata": {},
   "source": [
    "Hypothesis Testing is used everywhere in the traditional statistics \n",
    "\n",
    "Hypothesis testing is futher process of A/B testing to check wheather there is random behaviour affecting the result\n",
    "\n",
    "General human tendency is to under estimate natural ramdomn behaviour\n",
    "\n",
    "1. One event of this isthe  failure to anticipate black swan\n",
    "\n",
    "2. Another event is to misinterpt that the rambomn events as having pattern of significance\n",
    "\n",
    "Hypothesis testing is the test to check whether random chance ,might be responsible for observing the effect (result from the experimentation)\n",
    "\n",
    "Null hypothesis -The statement we are trying to prove\n",
    "\n",
    "Alternate hypothesis - The counterpoint statement to the null hyothesis\n",
    "\n",
    "One tail(way) test - Hypothesis test that counts chances results only in one direction\n",
    "\n",
    "Two tail(way) test -Hypothesis test that counts chances results in both direction"
   ]
  },
  {
   "cell_type": "markdown",
   "metadata": {},
   "source": [
    "    Null hypothesis and alternate hypothesis Baseline performance"
   ]
  },
  {
   "attachments": {},
   "cell_type": "markdown",
   "metadata": {},
   "source": [
    "Given that group A is treated with new treatment and group B are having default treatment\n",
    "\n",
    "Null hypohesis will be - Both the treatment are same . If there is any difference ,this might be due to the fact of chance\n",
    "\n",
    "Nature of hypothesis test (One tail or two Tail) depends on null hyopthesis \n",
    "\n",
    "Alternate hypothesis will be -counter to the null hypothesis\n",
    "\n",
    "We usually hope to prove null hypothes is wrong and show the difference of result from group A and B are more than what chance can produce , This usally done by method of resampling permutation procedure,in which we shuffle together the results from groups A and group b and repeatedly take out samples from combined groups of similar size .Then we observe how often we get as extreme as the observed difference \n",
    "\n",
    "The baseline performance - the performance of a model when it predicts randomly and amount of percent it is right.\n",
    "\n",
    "In the statiastics baseline assumption is that the treatments are equivalnet and any differnce between the groups is due to chance\n",
    "\n",
    "Null Hypothesis = Baseline performance or Baseline assumption"
   ]
  },
  {
   "cell_type": "markdown",
   "metadata": {},
   "source": [
    "    One-Way versus Two-Way Hypothesis Tests"
   ]
  },
  {
   "cell_type": "markdown",
   "metadata": {},
   "source": [
    "In laymans language we can say that one way hypotesis test is get protected from being fooled by the effect of chance in only one direction , And Two way hypothesis test is to get protected from being fooled by the effect of chance both the direction.\n",
    "\n",
    "ONE-TAIL HYPOTHESIS:> \n",
    "\n",
    "Test often fits the nature pof A/B decision making, in which a decison is required .And one of the option already different\n",
    "\n",
    "*Ex*: treatment for fever is DOLO and it is used already for fever right now,but scientist will create a new treatment X , we need to know is treatment X is more effective than the Dolo\n",
    "\n",
    "Null Hypothesis : Dolo is equal to X (any difference is by effect of chance)\n",
    "\n",
    "Alternative Hypothesis : Treatment X is better than the Dolo (see it is directional for this example > greater than dolo)\n",
    "\n",
    "Observe here that we have dolo as a default(used even if the treament X  is not that effective)\n",
    "\n",
    "In this case we want a hypothesis test that protect us from being favoured to the treatment X by effect of chance .And dont need to care of effect of DOLO being more effective by chance beacause I will stick with the Dolo no matter what!\n",
    "\n",
    "TWO-TAIL HYPOTHESIS:>\n",
    "\n",
    "If we want to get protected from being fooled by chance in either direction , the alternate hypothesis should bidirectional\n",
    "\n",
    "For the same example above \n",
    "\n",
    "Null hypothesis - Effect of Dolo is not different from treatment X (if any difference then its by Chance)\n",
    "\n",
    "Alternate hypothesis - Dolo is different effect from treatment X (either smaller or bigger difference)\n",
    "\n",
    "If we want hypothesis test to protect from being fooled by chance in either direction then alternate hypothesis must be bidirectional\n",
    "\n",
    "Key Ideas\n",
    "\n",
    "• A null hypothesis is a logical construct embodying the notion that nothing spe‐\n",
    "cial has happened, and any effect you observe is due to random chance.\n",
    "\n",
    "• The hypothesis test assumes that the null hypothesis is true, creates a “null\n",
    "model” (a probability model), and tests whether the effect you observe is a rea‐\n",
    "sonable outcome of that model."
   ]
  },
  {
   "cell_type": "markdown",
   "metadata": {},
   "source": [
    "    Resampling types uses:"
   ]
  },
  {
   "cell_type": "markdown",
   "metadata": {},
   "source": [
    "Resampling in statistics - Repeatedly sample values from observed data \n",
    "\n",
    "Bootstrap method (resample with replacement) - used to check the reliability of an estimate (by creating sample distribution and see if the value falls inside the confidence interval-- chap 2)\n",
    "\n",
    "Permutation method (resample without replacement) - used to check hypothesis (effect of chance)"
   ]
  },
  {
   "cell_type": "markdown",
   "metadata": {},
   "source": [
    "    Permutation Test"
   ]
  },
  {
   "cell_type": "markdown",
   "metadata": {},
   "source": [
    "Permutation test -In this test we combine both group A and group B into one population\n",
    "\n",
    "Permutation test is done to the NULL hypothesis (there is no diffeerence between the group , if its there its by chance )\n",
    "\n",
    "We have to test null hypothesis using permutation resampling of the combined group a and group b population ,and observe the difference of between the resamples\n",
    "\n",
    "Steps:\n",
    "\n",
    "1. Combine the group A and group B into one population\n",
    "\n",
    "2. Resample with size of Group A from population by the sampling without replacement method(contains both grp A and grp B)\n",
    "\n",
    "3. From the remaining data shuffle and resample with size of Group B \n",
    "\n",
    "4. whatever statistic were used on population, calculate it to the resamples\n",
    "\n",
    "5. repeat the previous steps R times\n",
    "\n",
    "Now comapare the observed difference(statistic) of the population and permuted samples(statistic)\n",
    "\n",
    "If the observed poplulation diffrence (statistic)  is within the range of permuted difference \n",
    "then Null hypothesis is true(that isw chance is effecting the hypothesis)\n",
    "\n",
    "If the observed difference significantly differ from  the range of permuted difference then the groups are statistically significant ( that is result difference is not by chance but is because of some effect)\n",
    "\n"
   ]
  },
  {
   "cell_type": "markdown",
   "metadata": {},
   "source": [
    "    Example of permutation test"
   ]
  },
  {
   "cell_type": "markdown",
   "metadata": {},
   "source": [
    "Problem Statement : A company has two web pages , and wants to decide which webpage increases the sales of the comapany\n",
    "\n",
    "Solution : \n",
    "\n",
    "Domain analysis See how much sales can we expect from the company and also know if can the data be easily available\n",
    "\n",
    "- The company sale luxuary items hence the sales are not that frequent and it takes more time accumulate the data from both webpage \n",
    "\n",
    "- Hence we cannot the same actual metric sales as the variable\n",
    "\n",
    "- We have  use the proxy variable that simulates the sales\n",
    "\n",
    "- As of we can think of the two proxy variable for our company \n",
    "\n",
    "  - Number of clicks on the landing page\n",
    "\n",
    "  - How long people spend on the web page (session time)\n",
    "\n",
    "- we choose session time as the proxy variable because it is reasonable to think the web page which holds the peoples attention more will lead to sales \n"
   ]
  },
  {
   "cell_type": "code",
   "execution_count": 1,
   "metadata": {},
   "outputs": [],
   "source": [
    "import pandas as pd\n",
    "\n",
    "session_path=\"/home/anish/plan/practical_statistics_notes/data/web_page_data.csv\"\n",
    "# experiment result of session time from page a and page b\n",
    "session=pd.read_csv(session_path)"
   ]
  },
  {
   "cell_type": "code",
   "execution_count": 2,
   "metadata": {},
   "outputs": [
    {
     "data": {
      "text/plain": [
       "<AxesSubplot: xlabel='Page', ylabel='Time'>"
      ]
     },
     "execution_count": 2,
     "metadata": {},
     "output_type": "execute_result"
    },
    {
     "data": {
      "image/png": "[encoded data removed]",
      "text/plain": [
       "<Figure size 640x480 with 1 Axes>"
      ]
     },
     "metadata": {},
     "output_type": "display_data"
    }
   ],
   "source": [
    "import seaborn as sns\n",
    "\n",
    "sns.boxplot(x=session.Page,y=session.Time)"
   ]
  },
  {
   "cell_type": "code",
   "execution_count": 3,
   "metadata": {},
   "outputs": [
    {
     "name": "stdout",
     "output_type": "stream",
     "text": [
      "the mean difference is 0.3566666666666669\n"
     ]
    }
   ],
   "source": [
    "page_a=session[session.Page == \"Page A\"]\n",
    "page_b=session[session.Page == \"Page B\"]\n",
    "\n",
    "obs_diff=page_b.Time.mean()-page_a.Time.mean()\n",
    "print(f\"the mean difference is {obs_diff}\")"
   ]
  },
  {
   "cell_type": "markdown",
   "metadata": {},
   "source": [
    "- First lets take the mean of group A and group B and lets compute the difference .The difference is 35 seconds . \n",
    "\n",
    "- This usually implies that on an average the Page B session is longer the Page A by 35 seconds.\n",
    "\n",
    "- We have to check weather the difference is statistically significant or is the difference by chance\n",
    "\n",
    "- We will check this by doing a permutation test\n",
    "\n",
    "  - Hypothesis : There no difference the web page ,sale will be same (if there is any difference then its by chance)\n",
    "\n",
    "  - Alternate : There is diffrence between web page \n",
    "\n",
    "  - Test statistic : Difference between (Mean_a - Mean_b)\n",
    "\n",
    "  - We will combine the groups into same pool and shuffle.\n",
    "\n",
    "  - We draw out sample of 21 because number of Sessons in Web page A is 21 , then we draw out sample of 15 because number of session in web page B is 15.\n",
    "\n",
    "  - We than calculate difference in the mean between the resampled permuted group(Here the idea is we map the values(observed in orignal data) into groups A and B and do test statics and comapare with orignal data .This tells that if that values are produced due to effect or the values are in range of random variation)\n",
    "\n",
    "- Lets create a function which assigns random data points randomly to the group A and group B"
   ]
  },
  {
   "cell_type": "code",
   "execution_count": 4,
   "metadata": {},
   "outputs": [],
   "source": [
    "import random\n",
    "\n",
    "def perm_sampling(data,na,nb):\n",
    "    total_nos = na+nb\n",
    "    idx_b = set(random.sample(range(total_nos), nb))\n",
    "    # Here set is used to get non repeating index , random.sample gives a random item from data and.. parameter says here says that\n",
    "    # from range of data , take out samples randomly nb times\n",
    "    idx_a = set(range(total_nos)) - idx_b\n",
    "    \n",
    "    return data.loc[list(idx_b)].mean()-data.loc[list(idx_a)].mean()"
   ]
  },
  {
   "cell_type": "code",
   "execution_count": 5,
   "metadata": {},
   "outputs": [],
   "source": [
    "perm_mean_diff=[]\n",
    "for _ in range(10000):\n",
    "    perm_mean_diff.append(perm_sampling(session.Time,21,15))"
   ]
  },
  {
   "cell_type": "code",
   "execution_count": 6,
   "metadata": {},
   "outputs": [
    {
     "data": {
      "text/plain": [
       "<matplotlib.lines.Line2D at 0x7fb61c439cf0>"
      ]
     },
     "execution_count": 6,
     "metadata": {},
     "output_type": "execute_result"
    },
    {
     "data": {
      "image/png": "[encoded data removed]",
      "text/plain": [
       "<Figure size 640x480 with 1 Axes>"
      ]
     },
     "metadata": {},
     "output_type": "display_data"
    }
   ],
   "source": [
    "import matplotlib.pyplot as plt\n",
    "\n",
    "plt.hist(perm_mean_diff,bins=11)\n",
    "plt.axvline(obs_diff)"
   ]
  },
  {
   "cell_type": "markdown",
   "metadata": {},
   "source": [
    "- Observed mean difference of the population is 35 secs \n",
    "\n",
    "- By observing the histplot obs mean diffrence is well in the range of chance variation .Hence we accept the null hypothesis .That is diffrence between groups is just by chance and it is not statistically significant"
   ]
  },
  {
   "attachments": {},
   "cell_type": "markdown",
   "metadata": {},
   "source": [
    "    Stastical Significance and P values:"
   ]
  },
  {
   "attachments": {},
   "cell_type": "markdown",
   "metadata": {},
   "source": [
    "- P value - In a chance model(null hypothesis) , The probability of getting results as extreme as  the observed results (see example 3.6% is the observed difference(result)) \n",
    "\n",
    "- EX:  a p value of 0.05 means that in Null hypothesis(no difference beteen the group) ,that there is 5% chance of occuring result that shows difference between the group\n",
    "\n",
    "- alpha - it is the threshold from which observed values should break in order to consider these as significant\n",
    "\n",
    "- If p < alpha : we could reject null hypothesis and say A and B group is different \n",
    "- If p > alpha : we would NOT reject the null hypothesis (may be there is no difference between A and B)\n",
    "\n",
    "- Type1 error - actual value - FALSE , but predicted as TRUE (false POSITIVE)\n",
    "\n",
    "- Tpe 2 error - actual value - TRUE , but predicted as FALSE (false NEGEATIVE)"
   ]
  },
  {
   "attachments": {},
   "cell_type": "markdown",
   "metadata": {},
   "source": [
    "    Example :"
   ]
  },
  {
   "attachments": {},
   "cell_type": "markdown",
   "metadata": {},
   "source": [
    "- Problem statement :\n",
    "\n",
    "- Page A - 200 sales Conversion out of total 23739 samples\n",
    "\n",
    "- Page B - 182 sales Conversion out of total 22588 samples \n",
    "\n",
    "- There 3.6%  difference between the Page A and Page B  sales conversion\n",
    "\n",
    "- Null hypothesis - There is no difference between the Page A and Page B (i.e 5% difference is due to chance )"
   ]
  },
  {
   "attachments": {},
   "cell_type": "markdown",
   "metadata": {},
   "source": [
    "- Solution : We use permutation test to know the effect of the chance \n",
    "\n",
    "- First we will create a pool of data that contain :\n",
    "\n",
    "    - Total Sales Conversion (200+182) = 382 number of ones (1 - represents conversion)\n",
    "\n",
    "    - Total non sales conversion (Page A : (23739 - 200 ) and Page B : (22588-182) ) = 23,539 + 22,406 = 45945 number of zeros (0- non conversion)\n",
    "- Shuffle and draw out a resample of size 23,739 (same n as price A), and record how many 1s.\n",
    "\n",
    "- Record the number of 1s in the remaining 22,588 (same n as price B).\n",
    "\n",
    "- Record the difference in proportion of 1s.\n",
    "\n",
    "- Repeat steps 2–4.\n",
    "\n",
    "\n",
    "- How often was the difference >= 0.0368?"
   ]
  },
  {
   "cell_type": "code",
   "execution_count": 2,
   "metadata": {},
   "outputs": [
    {
     "data": {
      "text/plain": [
       "<matplotlib.lines.Line2D at 0x7fc713507fa0>"
      ]
     },
     "execution_count": 2,
     "metadata": {},
     "output_type": "execute_result"
    },
    {
     "data": {
      "image/png": "[encoded data removed]",
      "text/plain": [
       "<Figure size 640x480 with 1 Axes>"
      ]
     },
     "metadata": {},
     "output_type": "display_data"
    }
   ],
   "source": [
    "data_pool = [1]*382# Creating the pool of data containing ones and zeros that represents number of conversion and non conversion\n",
    "\n",
    "data_pool.extend([0] * 45945)\n",
    "\n",
    "import pandas as pd\n",
    "data= pd.Series(data_pool) # converting data pool to pandas series\n",
    "\n",
    "#creating the permutation test to shuffle and take samples of size group A nad group B .. this function has already been created in web estickiness example\n",
    "import random\n",
    "\n",
    "def perm_sampling(data,na,nb):\n",
    "    total_nos = na+nb\n",
    "    idx_b = set(random.sample(range(total_nos), nb))\n",
    "    # Here set is used to get non repeating index , random.sample gives a random item from data and.. parameter says here says that\n",
    "    # from range of data , take out samples randomly nb times\n",
    "    idx_a = set(range(total_nos)) - idx_b\n",
    "    \n",
    "    return data.loc[list(idx_b)].mean()-data.loc[list(idx_a)].mean()\n",
    "\n",
    "# using this permutation sampling function as follows\n",
    "perm_mean_diff=[]\n",
    "for _ in range(1000):\n",
    "    perm_mean_diff.append(100*perm_sampling(data,23739,22588))\n",
    "\n",
    "import matplotlib.pyplot as plt\n",
    "obs_diff=0.036\n",
    "plt.hist(perm_mean_diff,bins=11)\n",
    "plt.axvline(obs_diff)\n",
    "    \n"
   ]
  },
  {
   "attachments": {},
   "cell_type": "markdown",
   "metadata": {},
   "source": [
    "- Result :\n",
    "\n",
    "- See the histogram of 1,000 resampled results in fig as it happens, in this case the observed difference of 0.0368% is well within the range of chance variation."
   ]
  },
  {
   "attachments": {},
   "cell_type": "markdown",
   "metadata": {},
   "source": [
    "    P Value:"
   ]
  },
  {
   "attachments": {},
   "cell_type": "markdown",
   "metadata": {},
   "source": [
    "- P value is the frequency of which chance model produce a result more extreme than the observed difference (here in the example 3.6% difference)"
   ]
  },
  {
   "cell_type": "code",
   "execution_count": 6,
   "metadata": {},
   "outputs": [
    {
     "name": "stdout",
     "output_type": "stream",
     "text": [
      "the calculated p value 0.323\n"
     ]
    }
   ],
   "source": [
    "import numpy as np\n",
    "perm_mean_diff\n",
    "p_value = np.mean([ind_diff > obs_diff for ind_diff in perm_mean_diff])\n",
    "print(f\"the calculated p value {p_value}\")"
   ]
  },
  {
   "attachments": {},
   "cell_type": "markdown",
   "metadata": {},
   "source": [
    "- The more p value means that : there is a more capacity(probability) for a chance model to produce 3.6% change between the group A and group B ( this implies that we can see 3% change more often due to chance)\n",
    "\n",
    "- Here p value is 0.323 : that implies that 32% of the time we saw difference more than 3% between groups . Hence we can that we can find that change more often and there can be a hand of chance to produce these kind of result"
   ]
  },
  {
   "attachments": {},
   "cell_type": "markdown",
   "metadata": {},
   "source": [
    "- In this case we dont need to do permutataion test for find the p value\n",
    "\n",
    "- Because permutatuion sampling gives a normal distribution which can be approximated for binomial distribution(plot of number of successes)"
   ]
  },
  {
   "cell_type": "code",
   "execution_count": 6,
   "metadata": {},
   "outputs": [
    {
     "name": "stdout",
     "output_type": "stream",
     "text": [
      "0.34977973135733076\n"
     ]
    }
   ],
   "source": [
    "from scipy.stats import chi2_contingency\n",
    "import numpy as np\n",
    "\n",
    "matrix = np.array([[200, 23739 - 200], [182, 22588 - 182]])\n",
    "chi2, p_value, df, _= chi2_contingency(matrix)\n",
    "print(p_value/2) #/2 as it is single sided test"
   ]
  },
  {
   "attachments": {},
   "cell_type": "markdown",
   "metadata": {},
   "source": [
    "- As a decision tool in an experiment, a p-value should not be consideredcontrolling, but merely another point of information bearing on a decision.\n",
    "\n",
    "- Forexample, p-values are sometimes used as intermediate inputs in some statistical ormachine learning models—a feature might be included in or excluded from a model depending on its p-value."
   ]
  },
  {
   "attachments": {},
   "cell_type": "markdown",
   "metadata": {},
   "source": [
    "    Alpha (Threshold)"
   ]
  },
  {
   "attachments": {},
   "cell_type": "markdown",
   "metadata": {},
   "source": [
    "- Alpha is value that defines a threshold of element of chance that can be mixed with result\n",
    "\n",
    "- If we say alpha as 5% then that implies that there can be only 5% chance mixed with result\n",
    "\n",
    "- For example : here p value is 32% that means there can 32%  chance (probbility) that the observed difference between group is by chance\n",
    "\n",
    "- If we define alpha as 5"
   ]
  },
  {
   "attachments": {},
   "cell_type": "markdown",
   "metadata": {},
   "source": [
    "    Significance TESTS:\n",
    "\n",
    "- There are many significance tests in statistics . All significance testing require a test statistics to confirm that weather the variation seen is significant or may be due to chance\n",
    "\n",
    "- The test depends on whether it is a categorical or numerical value , number of samples that is available\n",
    "\n",
    "- Hypothesis testing was developed in 1920s back then permutation resampling 1000 times was computational intensive task. Hence many reference tables like T,Z,F reference distribution was created (which takes null hypothesis as reference)\n",
    "\n",
    "- But in order to use these tables we have to normalise the data into a common scale which is of the table"
   ]
  },
  {
   "attachments": {},
   "cell_type": "markdown",
   "metadata": {},
   "source": [
    "    T-TEST (A/B testing with numeric data)"
   ]
  },
  {
   "attachments": {},
   "cell_type": "markdown",
   "metadata": {},
   "source": [
    "- Test statistic\n",
    "  - A metric for the difference or effect of interest.\n",
    "\n",
    "- t-statistic\n",
    "  - A standardized version of common test statistics such as means.\n",
    "\n",
    "- t-distribution\n",
    "  - A reference distribution (in this case derived from the null hypothesis), to which the observed t-statistic can be compared."
   ]
  },
  {
   "attachments": {},
   "cell_type": "markdown",
   "metadata": {},
   "source": [
    "- In permutation resamlping method we can create reference distribution (of null hypothesis) (that is by exchanging data between groups and create  plot and observe that obtained result is within the range of chance variation or not ) .Here the scale,type of data(numeric ,categorical )  doesnt matter because we creating the distribution directly\n",
    "\n",
    "- T test is the approximation of the above method (permutation resampling method)\n",
    "\n",
    "- T test is used for A/B testing (Page a and Page B) with numeric data"
   ]
  },
  {
   "cell_type": "code",
   "execution_count": 1,
   "metadata": {},
   "outputs": [
    {
     "name": "stdout",
     "output_type": "stream",
     "text": [
      "The p value is 0.13450512181963012 that is the probability of getting the observed value has 13% chance in reference distribution(that null hypothesis - chance variation) \n"
     ]
    }
   ],
   "source": [
    "import pandas as pd\n",
    "\n",
    "session_path=\"/home/anish/plan/practical_statistics_notes/data/web_page_data.csv\"\n",
    "# experiment result of session time from page a and page b\n",
    "session=pd.read_csv(session_path)\n",
    "\n",
    "from scipy.stats import ttest_ind\n",
    "\n",
    "res = ttest_ind(session[session.Page == \"Page A\"].Time , session[session.Page == \"Page B\"].Time)\n",
    "res.pvalue/2 # single tailed test\n",
    "print(f\"The p value is {res.pvalue/2} that is the probability of getting the observed value has 13% chance in reference distribution(that null hypothesis - chance variation) \")"
   ]
  },
  {
   "attachments": {},
   "cell_type": "markdown",
   "metadata": {},
   "source": [
    "    ANOVA TEST - F TEST (A/B/C/D MULTIPLE GROUP NUMERIC DATA) "
   ]
  },
  {
   "attachments": {},
   "cell_type": "markdown",
   "metadata": {},
   "source": [
    "- The procedure for doing significance testing between many groups is called analysis of variance\n",
    "\n",
    "- Pairwise comparison\n",
    "    - A hypothesis test (e.g., of means) between two groups among multiple groups.\n",
    "\n",
    "- Omnibus test\n",
    "    - A single hypothesis test of the overall variance among multiple group means.\n",
    "\n",
    "- Decomposition of variance\n",
    "    - Separation of components contributing to an individual value (e.g., from the overall average, from a treatment mean, and from a residual error).\n",
    "\n",
    "- F-statistic\n",
    "    - A standardized statistic that measures the extent to which differences among group means exceed what might be expected in a chance model.\n",
    "\n",
    "- SS\n",
    "    - “Sum of squares,” referring to deviations from some average value."
   ]
  },
  {
   "attachments": {},
   "cell_type": "markdown",
   "metadata": {},
   "source": [
    "- Use of Pairwise comparision increases the chance of being fooled by variation of chance (because there is chance of chaining the error)\n",
    "\n",
    "- To overcome this we use ANOVA ( a omnious test) for testing the significane of among the group"
   ]
  },
  {
   "attachments": {},
   "cell_type": "markdown",
   "metadata": {},
   "source": [
    "    Example:"
   ]
  },
  {
   "attachments": {},
   "cell_type": "markdown",
   "metadata": {},
   "source": [
    "- There are four pages and randomly chose people to try new website .\n",
    "\n",
    "- Then recorded the session time for each of the page\n",
    "\n",
    "- NUll hypothesis -There no difference between the four pages\n",
    "\n",
    "- Alternate hypothesis - There is difference between the four pages "
   ]
  },
  {
   "cell_type": "code",
   "execution_count": 1,
   "metadata": {},
   "outputs": [
    {
     "data": {
      "text/plain": [
       "<AxesSubplot: xlabel='Page', ylabel='Time'>"
      ]
     },
     "execution_count": 1,
     "metadata": {},
     "output_type": "execute_result"
    },
    {
     "data": {
      "image/png": "[encoded data removed]",
      "text/plain": [
       "<Figure size 640x480 with 1 Axes>"
      ]
     },
     "metadata": {},
     "output_type": "display_data"
    }
   ],
   "source": [
    "import pandas as pd\n",
    "four_session =\"/home/anish/plan/practical_statistics_notes/data/four_sessions.csv\"\n",
    "four_ses_dat = pd.read_csv(four_session)\n",
    "\n",
    "\n",
    "import seaborn as sns\n",
    "%matplotlib inline\n",
    "sns.boxplot(x=four_ses_dat.Page,y=four_ses_dat.Time)"
   ]
  },
  {
   "attachments": {},
   "cell_type": "markdown",
   "metadata": {},
   "source": [
    "- From boxplot we can see there significance between the pages and page 2 has more session time and better ui.\n",
    "\n",
    "- But we should do significane test for this to know better and see what it convey to us\n",
    "\n",
    "- steps:\n",
    "\n",
    "    - Calculate the observed test statistic\n",
    "\n",
    "    - Collect data and put into a pool of data\n",
    "\n",
    "    - Shuffle the data and do permutation resampling with sample size of respective groups (drawm from pool of sample)\n",
    "\n",
    "    - Record mean of each group\n",
    "\n",
    "    - Record the variance between each group\n",
    "\n",
    "    - Repeat the procedure 1000 times"
   ]
  },
  {
   "cell_type": "code",
   "execution_count": 2,
   "metadata": {},
   "outputs": [
    {
     "name": "stdout",
     "output_type": "stream",
     "text": [
      "Observed variance is 55.426666666666655 sec of session time\n",
      "the pvalue is 0.069\n"
     ]
    },
    {
     "data": {
      "image/png": "[encoded data removed]",
      "text/plain": [
       "<Figure size 640x480 with 1 Axes>"
      ]
     },
     "metadata": {},
     "output_type": "display_data"
    }
   ],
   "source": [
    "import numpy as np\n",
    "\n",
    "observed_variance = four_ses_dat.groupby(\"Page\").mean().var()[0] # [0] gives only value and doesnt print dtype\n",
    "print(f\"Observed variance is {observed_variance} sec of session time\")\n",
    "\n",
    "def perm_samp(data):\n",
    "    dta_df = data.copy()\n",
    "    dta_df['Time'] = np.random.permutation(dta_df['Time'].values) \n",
    "    return dta_df.groupby(\"Page\").mean().var()[0]\n",
    "\n",
    "reference_distribution = [perm_samp(four_ses_dat) for _ in range(1000)]\n",
    "\n",
    "import matplotlib.pyplot as plt\n",
    "obs_diff=observed_variance\n",
    "plt.hist(reference_distribution,bins=11)\n",
    "plt.axvline(obs_diff)\n",
    "\n",
    "# finding p_value\n",
    "\n",
    "pval= np.mean([sample_vr > observed_variance  for sample_vr in reference_distribution])\n",
    "print(f\"the pvalue is {pval}\")"
   ]
  },
  {
   "attachments": {},
   "cell_type": "markdown",
   "metadata": {},
   "source": [
    "- P value is greater than 5% hence we accept the null hypothesis"
   ]
  },
  {
   "attachments": {},
   "cell_type": "markdown",
   "metadata": {},
   "source": [
    "    F statistic"
   ]
  },
  {
   "attachments": {},
   "cell_type": "markdown",
   "metadata": {},
   "source": [
    "- Just like t test is used for permutation test for mean(only between two groups) , F test is used for analysis of variance (ANOVA) instead of using the permuatation test for variance.\n",
    "\n",
    "- F-statistic is based on the ratio of the variance across group means (i.e., the treatment effect) to the variance due to residual error.\n",
    "\n",
    "- F statistics the ratio of variability between the group means to the varibility within each group means\n",
    "\n",
    "- summation of (Xj(mean of jth group) -  X(mean of every data regardless of group))^2 / summation of (xij(ith data of jth group) - Xj(mean of jth Group))^2\n",
    "\n",
    "- The higher this ratio, the more statistically significant the result"
   ]
  },
  {
   "cell_type": "code",
   "execution_count": 5,
   "metadata": {},
   "outputs": [
    {
     "data": {
      "text/html": [
       "<div>\n",
       "<style scoped>\n",
       "    .dataframe tbody tr th:only-of-type {\n",
       "        vertical-align: middle;\n",
       "    }\n",
       "\n",
       "    .dataframe tbody tr th {\n",
       "        vertical-align: top;\n",
       "    }\n",
       "\n",
       "    .dataframe thead th {\n",
       "        text-align: right;\n",
       "    }\n",
       "</style>\n",
       "<table border=\"1\" class=\"dataframe\">\n",
       "  <thead>\n",
       "    <tr style=\"text-align: right;\">\n",
       "      <th></th>\n",
       "      <th>df</th>\n",
       "      <th>sum_sq</th>\n",
       "      <th>mean_sq</th>\n",
       "      <th>F</th>\n",
       "      <th>PR(&gt;F)</th>\n",
       "    </tr>\n",
       "  </thead>\n",
       "  <tbody>\n",
       "    <tr>\n",
       "      <th>Page</th>\n",
       "      <td>3.0</td>\n",
       "      <td>831.4</td>\n",
       "      <td>277.133333</td>\n",
       "      <td>2.739825</td>\n",
       "      <td>0.077586</td>\n",
       "    </tr>\n",
       "    <tr>\n",
       "      <th>Residual</th>\n",
       "      <td>16.0</td>\n",
       "      <td>1618.4</td>\n",
       "      <td>101.150000</td>\n",
       "      <td>NaN</td>\n",
       "      <td>NaN</td>\n",
       "    </tr>\n",
       "  </tbody>\n",
       "</table>\n",
       "</div>"
      ],
      "text/plain": [
       "            df  sum_sq     mean_sq         F    PR(>F)\n",
       "Page       3.0   831.4  277.133333  2.739825  0.077586\n",
       "Residual  16.0  1618.4  101.150000       NaN       NaN"
      ]
     },
     "execution_count": 5,
     "metadata": {},
     "output_type": "execute_result"
    }
   ],
   "source": [
    "import statsmodels.api as sm\n",
    "from statsmodels.formula.api import ols\n",
    "\n",
    "model = ols('Time ~ Page', data=four_ses_dat).fit()\n",
    "aov_table = sm.stats.anova_lm(model)\n",
    "aov_table"
   ]
  },
  {
   "attachments": {},
   "cell_type": "markdown",
   "metadata": {},
   "source": [
    "- f statistic = variance of group means(treatment(here page))/ variance of residual error\n",
    "\n",
    "- That is here f = mean_sq(page)/mean(residual) = 277.133/101.15\n",
    "\n",
    "- This f score should be compared to the f distribution table to wheather the variation is significant or not"
   ]
  },
  {
   "attachments": {},
   "cell_type": "markdown",
   "metadata": {},
   "source": [
    "- ANOVA and two way Anova test is first road for the complete statistical model like regression(logistic and linear)\n",
    "\n",
    "- Because it will test that whole feature that is used for predicting the predictor variable is significant or not"
   ]
  },
  {
   "attachments": {},
   "cell_type": "markdown",
   "metadata": {},
   "source": [
    "     Chi Square test (A/B/C/D Multiple groups analysis with categorical value (with counts matrix - contengency table )and uses Pearson residual as test statistic)"
   ]
  },
  {
   "attachments": {},
   "cell_type": "markdown",
   "metadata": {},
   "source": [
    "- Chi square test is used with often count data (categorical value) to test the significance between the groups.\n",
    "\n",
    "- The chi-square statistic is defined as the sum of the squared Pearson residuals\n",
    "    \n",
    "    - Χ = ∑ ∑ R^2 this is chi square statistic\n",
    "\n",
    "    - WHERE R = pearson residuals = (observed - expected)/sqrt(expected)"
   ]
  },
  {
   "attachments": {},
   "cell_type": "markdown",
   "metadata": {},
   "source": [
    "- Example : there are 3 headline and respective clicks\n",
    "\n",
    "Headline A Headline B Headline C\n",
    "\n",
    "Click     14     8            12\n",
    "\n",
    "No-click 986     992          988"
   ]
  },
  {
   "attachments": {},
   "cell_type": "markdown",
   "metadata": {},
   "source": [
    "    RESAMPLING METHOD : CHI-SQUARE STATISTIC\n",
    "\n",
    "- A resampling procedure can test whether the click rates differ to an extent greater than chance might cause. \n",
    "\n",
    "- For this test, we need to have the “expected” distribution of clicks, and in this case, that would be under the null hypothesis assumption that all three headlines share the same click rate, for an overall click rate of 34/3,000."
   ]
  },
  {
   "attachments": {},
   "cell_type": "markdown",
   "metadata": {},
   "source": [
    "Steps\n",
    "\n",
    "- Create a pool of data that contains 34 clicks(ones) and 2966 non clicks(zeros)\n",
    "\n",
    "- Take samples according to the group size\n",
    "\n",
    "- Find the squared differences between the shuffled counts and the expected counts and sum them.\n",
    "\n",
    "- Repeat steps 2 and 3, say, 1,000 times.\n",
    "\n",
    "-  How often does the resampled sum of squared deviations exceed the observed? That’s the p-value"
   ]
  },
  {
   "attachments": {},
   "cell_type": "markdown",
   "metadata": {},
   "source": [
    "    Chi-square : statistical theory"
   ]
  },
  {
   "attachments": {},
   "cell_type": "markdown",
   "metadata": {},
   "source": [
    "- Stats model give approximate p value by comparing it to the chi-square distribution which always skewed towards the right\n",
    "\n",
    "- The chi-square  distribution is heavely dependent on the degree of freedom\n",
    "\n",
    "- See the distribution in the text to see the effect of df in dstribution\n",
    "\n",
    "- The degree of freedom in contengency table of rxc matirx is  = (r-1) x (c-1)"
   ]
  },
  {
   "cell_type": "code",
   "execution_count": 25,
   "metadata": {},
   "outputs": [
    {
     "name": "stdout",
     "output_type": "stream",
     "text": [
      "p-value: 0.4348\n",
      "Hence the clicks are not signicant and all headline have same effect\n"
     ]
    }
   ],
   "source": [
    "import scipy.stats as stats\n",
    "clicks=[[14,8,12],[986,992,988]]\n",
    "chisq, pvalue, df, expected = stats.chi2_contingency(clicks)\n",
    "# print(f'Observed chi2: {chi2observed:.4f}')\n",
    "print(f'p-value: {pvalue:.4f}')\n",
    "print(f\"Hence the clicks are not signicant and all headline have same effect\")"
   ]
  },
  {
   "attachments": {},
   "cell_type": "markdown",
   "metadata": {},
   "source": [
    "- Chi-square tests, or similar resampling simulations, are used in data science applications more as a filter to determine whether an effect or a feature is worthy of further consideration than as a formal test of significance.\n",
    "\n",
    "- For example, they are used in spatial statistics and mapping to determine whether spatial data conforms to a specified null distribution (example : are crimes concentrated in a certain area to a greater degree than random chance would allow?). They can also be used in automated feature selection in machine learning"
   ]
  },
  {
   "attachments": {},
   "cell_type": "markdown",
   "metadata": {},
   "source": [
    "    Multi-Arm bandit test"
   ]
  },
  {
   "attachments": {},
   "cell_type": "markdown",
   "metadata": {},
   "source": [
    "- In traditonal A/B testing we design an experiment and collect the data , One assumption is that from the data collected we can know the which group is better.\n",
    "\n",
    "- But in reality the this not he case , because there may be possibilty that from collected data we cannot come to conclusion , even if we find the difference we do not have more samples to prove it.\n",
    "\n",
    "- Bandit algorithms, which are very popular in web testing, allow you to test multiple treatments at once and reach conclusions faster than traditional statistical designs\n",
    "\n",
    "- The test works as follow for value till epsilon . All the webpage has equal chance of been shown . After the it reaches the epsilon it will get baised to show more of highest clicked page but does not stop to show other pages , it will show other pages but probability of being shown is less (same as ads) .Also it self rectifies in the process\n",
    "\n",
    "- Here is one simple algorithm, the epsilon-greedy algorithm for an A/B test:\n",
    "\n",
    "    1. Generate a uniformly distributed random number between 0 and 1.\n",
    "\n",
    "    2. If the number lies between 0 and epsilon (where epsilon is a number between 0 and 1, typically fairly small), flip a fair coin (50/50 probability), and:\n",
    "    \n",
    "        - If the coin is heads, show offer A.\n",
    "\n",
    "        - If the coin is tails, show offer B.\n",
    "    \n",
    "    3. If the number is ≥ epsilon, show whichever offer has had the highest response rate to date.\n",
    "\n",
    "- Epsilon ranges from 0 to 1 \n",
    "    \n",
    "    - 0 means always it will show only one page (because baised)\n",
    "\n",
    "    - 1 means till end all the page have equal probability of being shown , that will be equal to A/B testing\n",
    "\n"
   ]
  },
  {
   "attachments": {},
   "cell_type": "markdown",
   "metadata": {},
   "source": [
    "    Power and sample size"
   ]
  },
  {
   "attachments": {},
   "cell_type": "markdown",
   "metadata": {},
   "source": [
    "- The main problem in significance testing is knowing the amount of samples needed to for concluding the test in which we hope to get conlusion that difference is significant or not\n",
    "\n",
    "- power - Probability of observing expected diffrence between groups(effect size) for a given sample size.\n",
    "\n",
    "- effect size - minimum diiference between groups (size of effect) that we hope to get in statistical test\n",
    "\n",
    "- Power is the probability of detecting a specified effect size with specified sample characteristics (size and variability).\n",
    "\n",
    "- For example consider two players with strike rate of 200 and 300 , there is large difference between the players so more easily (less samples) are needed to conclude the experiment\n",
    "\n",
    "- If the players had strike rate of 200 and 230 respectively , we would need more samples.\n",
    "\n",
    "    - Here effect size is 230 -200 = 30 \n",
    "\n",
    "    - Asssume we need 25 matches (samples) to get that effect(30 strike rate difference) n=25 that is sample size\n",
    "\n",
    "    - and say there is 75% chance that effect is real that is getting 30 strike rate diffrence (rejecting null hypothesis) after 25 matches\n",
    "    hence we can say that 75% is the power\n",
    "\n",
    "- So in layman terms we can use power calculation in finding how big should be the sample size must be to observe effect size(here 30 strike rate difference)\n",
    "\n",
    "- In summary, for calculating power or required sample size, there are four moving parts:\n",
    "  \n",
    "  - Sample size\n",
    "    \n",
    "  - Effect size you want to detect\n",
    "    \n",
    "  - Significance level (alpha) at which the test will be conducted\n",
    "\n",
    "  - Power\n",
    "\n",
    "- specify any three of them fourth one can be calculated\n",
    "\n",
    "- The statsmodels package contains several methods for power calculation. Here, we use proportion_effectsize to calculate the effect size and TTestIndPower to solve for the sample size:"
   ]
  },
  {
   "cell_type": "code",
   "execution_count": 18,
   "metadata": {},
   "outputs": [
    {
     "name": "stdout",
     "output_type": "stream",
     "text": [
      "the required sample is :3435.4306437120076\n"
     ]
    }
   ],
   "source": [
    "import statsmodels\n",
    "sample=statsmodels.stats.power.tt_ind_solve_power(effect_size=0.06,  alpha=0.05, power= 0.8, alternative='larger')\n",
    "print(f\"the required sample is :{sample}\")"
   ]
  },
  {
   "attachments": {},
   "cell_type": "markdown",
   "metadata": {},
   "source": [
    "- we need 3435 sample matches to confirm that there is 80 % probability of that diffrence of 230 strike rate and 200 strike rate is significant (effect size is 6% that is (230-200)/(230+200))"
   ]
  }
 ],
 "metadata": {
  "kernelspec": {
   "display_name": "Python 3.10.6 64-bit",
   "language": "python",
   "name": "python3"
  },
  "language_info": {
   "codemirror_mode": {
    "name": "ipython",
    "version": 3
   },
   "file_extension": ".py",
   "mimetype": "text/x-python",
   "name": "python",
   "nbconvert_exporter": "python",
   "pygments_lexer": "ipython3",
   "version": "3.10.6"
  },
  "orig_nbformat": 4,
  "vscode": {
   "interpreter": {
    "hash": "916dbcbb3f70747c44a77c7bcd40155683ae19c65e1c03b4aa3499c5328201f1"
   }
  }
 },
 "nbformat": 4,
 "nbformat_minor": 2
}
