{
 "cells": [
  {
   "cell_type": "markdown",
   "metadata": {},
   "source": [
    "    CHAPTER 3 : STATSTICAL EXPERIMENTS AND SIGNIFICANCE TESTING"
   ]
  },
  {
   "cell_type": "markdown",
   "metadata": {},
   "source": [
    "    Inference pipeline"
   ]
  },
  {
   "cell_type": "markdown",
   "metadata": {},
   "source": [
    "From here Inferential statistics starts\n",
    "\n",
    "Statistical Inference pipeline\n",
    "\n",
    "1. Formulate Hypothesis\n",
    "\n",
    "2. Design Experiment\n",
    "\n",
    "3. Collect data\n",
    "\n",
    "4. Inference"
   ]
  },
  {
   "cell_type": "markdown",
   "metadata": {},
   "source": [
    "    Introduction "
   ]
  },
  {
   "cell_type": "markdown",
   "metadata": {},
   "source": [
    "Hypothesis is like a statement (A is better than B)\n",
    "\n",
    "Null  hypothesis the statement that we are trying to prove\n",
    "\n",
    "The goal of the experiment is to confirm or reject null hypothesis \n",
    "\n",
    "The conclusion is drawn from the experimention using the set of samples . These conclusion result is then applied to the larger population"
   ]
  },
  {
   "cell_type": "markdown",
   "metadata": {},
   "source": [
    "    A/B testing"
   ]
  },
  {
   "cell_type": "markdown",
   "metadata": {},
   "source": [
    "A/B testing is an experiment with two groups\n",
    "\n",
    "A/B testing is commonly used in marketing and web design\n",
    "\n",
    "Common Terms in A/B testing\n",
    "\n",
    "1. Subjects - Items that are exposed to treatment\n",
    "\n",
    "2. Treatment - Something which exposed to subject or a group\n",
    "\n",
    "3. Control group - group which is not exposed to treatment or already with default treament as everybody\n",
    "\n",
    "4. Test Statistic - The metric used to measure Treatent effect\n",
    "\n",
    "Ideally the Subject should be assigned randomly,hence we can know that difference between treatment groups cn be of two reason:\n",
    "\n",
    "1. Real effect of treatment\n",
    "\n",
    "2.  By chance or random variation\n",
    "\n",
    "Ideally the Test Statistics should be decided before the experimentation is conducted , when the test statistics are choosed after the experiment then oit genearally lead to researchers bais \n",
    "\n",
    "Test Statistics are used to compare two groups:\n",
    "1. categorical - 2x2 matrix (like confusion matrix) are used to determine binary outcomes like conversion or no conversion vs price A or priceB\n",
    "\n",
    "2. Continious - Mean and standard deviation is compared between two groups .for example  Price A :revenue/page = mean=45 ,SD = 5.5 and Price B :revenue /page = mean =50 ,SD = 6.7\n",
    "\n",
    "Control Group is required whenever it is not there because we cannot estimate the effect of treatement is real or by chance\n",
    "\n",
    "Tradition Statistics focus on the result of the treatment(wheather the result is by choice or effect of treatment ) but the data scientist is not that bothered of that because they are more inclined towards knowning that result a is better or the result b is better\n",
    "\n",
    "For example : \n",
    "\n",
    "1. Data scientist is less concerned of knowing that difference between Price A  and Price B is statistically Significant (is it by chance or effect of the treatment)\n",
    "\n",
    "2. Data scientist is more concerned towards knowing that is Price A is better or Price B is better , which one to choose!! \n",
    "\n",
    "    That is which one of the multiple prices are the best \n",
    "\n",
    "For the data scientist multi arm bandit experimentation is used more than A/B testing \n",
    "\n",
    "Key points :\n",
    "\n",
    "1. Subjects must be randomly selected and assigned to the groups \n",
    "\n",
    "2. Subjects assigned randomly to the two groups are coinsidered alike but only the treatment they undergo is different"
   ]
  },
  {
   "cell_type": "markdown",
   "metadata": {},
   "source": [
    "    Hypothesis tests"
   ]
  },
  {
   "cell_type": "markdown",
   "metadata": {},
   "source": [
    "Hypothesis Testing is used everywhere in the traditional statistics \n",
    "\n",
    "Hypothesis testing is futher process of A/B testing to check wheather there is random behaviour affecting the result\n",
    "\n",
    "General human tendency is to under estimate natural ramdomn behaviour\n",
    "\n",
    "1. One event of this isthe  failure to anticipate black swan\n",
    "\n",
    "2. Another event is to misinterpt that the rambomn events as having pattern of significance\n",
    "\n",
    "Hypothesis testing is the test to check whether random chance ,might be responsible for observing the effect (result from the experimentation)\n",
    "\n",
    "Null hypothesis -The statement we are trying to prove\n",
    "\n",
    "Alternate hypothesis - The counterpoint statement to the null hyothesis\n",
    "\n",
    "One tail(way) test - Hypothesis test that counts chances results only in one direction\n",
    "\n",
    "Two tail(way) test -Hypothesis test that counts chances results in both direction"
   ]
  },
  {
   "cell_type": "markdown",
   "metadata": {},
   "source": [
    "    Null hypothesis and alternate hypothesis Baseline performance"
   ]
  },
  {
   "cell_type": "markdown",
   "metadata": {},
   "source": [
    "Given that group A is treated with new treatment and group B are having default treatment\n",
    "\n",
    "Null hypohesis will be - Both the treatment are same . If there is any difference ,this might be due to the fact of chance\n",
    "\n",
    "Nature of hypothesis test (One tail or two Tail) depends on null hyopthesis \n",
    "\n",
    "Alternate hypothesis will be -counter to the null hypothesis\n",
    "\n",
    "We usually hope to prove null hypothesis wrong and show the difference of result from group A and B are more than what chance can produce , This usally done by method of resampling permutation procedure,in which we shuffle together the results from groups A and group b and repeatedly take out samples from combined groups of similar size .Then we observe how often we get as extreme as the observed difference \n",
    "\n",
    "The baseline performance - the performance of a model when it predicts randomly and amount of percent it is right.\n",
    "\n",
    "In the statiastics baseline assumption is that the treatments are equivalnet and any differnce between the groups is due to chance\n",
    "\n",
    "Null Hypothesis = Baseline performance or Baseline assumption"
   ]
  },
  {
   "cell_type": "markdown",
   "metadata": {},
   "source": [
    "    One-Way versus Two-Way Hypothesis Tests"
   ]
  },
  {
   "cell_type": "markdown",
   "metadata": {},
   "source": [
    "In laymans language we can say that one way hypotesis test is get protected from being fooled by the effect of chance in only one direction , And Two way hypothesis test is to get protected from being fooled by the effect of chance both the direction.\n",
    "\n",
    "ONE-TAIL HYPOTHESIS:> \n",
    "\n",
    "Test often fits the nature pof A/B decision making, in which a decison is required .And one of the option already different\n",
    "\n",
    "*Ex*: treatment for fever is DOLO and it is used already for fever right now,but scientist will create a new treatment X , we need to know is treatment X is more effective than the Dolo\n",
    "\n",
    "Null Hypothesis : Dolo is equal to X (any difference is by effect of chance)\n",
    "\n",
    "Alternative Hypothesis : Treatment X is better than the Dolo (see it is directional for this example > greater than dolo)\n",
    "\n",
    "Observe here that we have dolo as a default(used even if the treament X  is not that effective)\n",
    "\n",
    "In this case we want a hypothesis test that protect us from being favoured to the treatment X by effect of chance .And dont need to care of effect of DOLO being more effective by chance beacause I will stick with the Dolo no matter what!\n",
    "\n",
    "TWO-TAIL HYPOTHESIS:>\n",
    "\n",
    "If we want to get protected from being fooled by chance in either direction , the alternate hypothesis should bidirectional\n",
    "\n",
    "For the same example above \n",
    "\n",
    "Null hypothesis - Effect of Dolo is not different from treatment X (if any difference then its by Chance)\n",
    "\n",
    "Alternate hypothesis - Dolo is different effect from treatment X (either smaller or bigger difference)\n",
    "\n",
    "If we want hypothesis test to protect from being fooled by chance in either direction then alternate hypothesis must be bidirectional\n",
    "\n",
    "Key Ideas\n",
    "\n",
    "• A null hypothesis is a logical construct embodying the notion that nothing spe‐\n",
    "cial has happened, and any effect you observe is due to random chance.\n",
    "\n",
    "• The hypothesis test assumes that the null hypothesis is true, creates a “null\n",
    "model” (a probability model), and tests whether the effect you observe is a rea‐\n",
    "sonable outcome of that model."
   ]
  },
  {
   "cell_type": "markdown",
   "metadata": {},
   "source": [
    "    Resampling types uses:"
   ]
  },
  {
   "cell_type": "markdown",
   "metadata": {},
   "source": [
    "Resampling in statistics - Repeatedly sample values from observed data \n",
    "\n",
    "Bootstrap method (resample with replacement) - used to check the reliability of an estimate (by creating sample distribution and see if the value falls inside the confidence interval-- chap 2)\n",
    "\n",
    "Permutation method (resample without replacement) - used to check hypothesis (effect of chance)"
   ]
  },
  {
   "cell_type": "markdown",
   "metadata": {},
   "source": [
    "    Permutation Test"
   ]
  },
  {
   "cell_type": "markdown",
   "metadata": {},
   "source": [
    "Permutation test -In this test we combine both group A and group B into one population\n",
    "\n",
    "Permutation test is done to the NULL hypothesis (there is no diffeerence between the group , if its there its by chance )\n",
    "\n",
    "We have to test null hypothesis using permutation resampling of the combined group a and group b population ,and observe the difference of between the resamples\n",
    "\n",
    "Steps:\n",
    "\n",
    "1. Combine the group A and group B into one population\n",
    "\n",
    "2. Resample with size of Group A from population by the sampling without replacement method(contains both grp A and grp B)\n",
    "\n",
    "3. From the remaining data shuffle and resample with size of Group B \n",
    "\n",
    "4. whatever statistic were used on population, calculate it to the resamples\n",
    "\n",
    "5. repeat the previous steps R times\n",
    "\n",
    "Now comapare the observed difference(statistic) of the population and permuted samples(statistic)\n",
    "\n",
    "If the observed poplulation diffrence (statistic)  is within the range of permuted difference \n",
    "then Null hypothesis is true(that isw chance is effecting the hypothesis)\n",
    "\n",
    "If the observed difference significantly differ from  the range of permuted difference then the groups are statistically significant ( that is result difference is not by chance but is because of some effect)\n",
    "\n"
   ]
  },
  {
   "cell_type": "markdown",
   "metadata": {},
   "source": [
    "    Example of permutation test"
   ]
  },
  {
   "cell_type": "markdown",
   "metadata": {},
   "source": [
    "Problem Statement : A company has two web pages , and wants to decide which webpage increases the sales of the comapany\n",
    "\n",
    "Solution : \n",
    "\n",
    "Domain analysis See how much sales can we expect from the company and also know if can the data be easily available\n",
    "\n",
    "- The company sale luxuary items hence the sales are not that frequent and it takes more time accumulate the data from both webpage \n",
    "\n",
    "- Hence we cannot the same actual metric sales as the variable\n",
    "\n",
    "- We have  use the proxy variable that simulates the sales\n",
    "\n",
    "- As of we can think of the two proxy variable for our company \n",
    "\n",
    "  - Number of clicks on the landing page\n",
    "\n",
    "  - How long people spend on the web page (session time)\n",
    "\n",
    "- we choose session time as the proxy variable because it is reasonable to think the web page which holds the peoples attention more will lead to sales \n"
   ]
  },
  {
   "cell_type": "code",
   "execution_count": 1,
   "metadata": {},
   "outputs": [],
   "source": [
    "import pandas as pd\n",
    "\n",
    "session_path=\"/home/anish/plan/practical_statistics_notes/data/web_page_data.csv\"\n",
    "# experiment result of session time from page a and page b\n",
    "session=pd.read_csv(session_path)"
   ]
  },
  {
   "cell_type": "code",
   "execution_count": 2,
   "metadata": {},
   "outputs": [
    {
     "data": {
      "text/plain": [
       "<AxesSubplot: xlabel='Page', ylabel='Time'>"
      ]
     },
     "execution_count": 2,
     "metadata": {},
     "output_type": "execute_result"
    },
    {
     "data": {
      "image/png": "[encoded data removed]",
      "text/plain": [
       "<Figure size 640x480 with 1 Axes>"
      ]
     },
     "metadata": {},
     "output_type": "display_data"
    }
   ],
   "source": [
    "import seaborn as sns\n",
    "\n",
    "sns.boxplot(x=session.Page,y=session.Time)"
   ]
  },
  {
   "cell_type": "code",
   "execution_count": 3,
   "metadata": {},
   "outputs": [
    {
     "name": "stdout",
     "output_type": "stream",
     "text": [
      "the mean difference is 0.3566666666666669\n"
     ]
    }
   ],
   "source": [
    "page_a=session[session.Page == \"Page A\"]\n",
    "page_b=session[session.Page == \"Page B\"]\n",
    "\n",
    "obs_diff=page_b.Time.mean()-page_a.Time.mean()\n",
    "print(f\"the mean difference is {obs_diff}\")"
   ]
  },
  {
   "cell_type": "markdown",
   "metadata": {},
   "source": [
    "- First lets take the mean of group A and group B and lets compute the difference .The difference is 35 seconds . \n",
    "\n",
    "- This usually implies that on an average the Page B session is longer the Page A by 35 seconds.\n",
    "\n",
    "- We have to check weather the difference is statistically significant or is the difference by chance\n",
    "\n",
    "- We will check this by doing a permutation test\n",
    "\n",
    "  - Hypothesis : There no difference the web page ,sale will be same (if there is any difference then its by chance)\n",
    "\n",
    "  - Alternate : There is diffrence between web page \n",
    "\n",
    "  - Test statistic : Difference between (Mean_a - Mean_b)\n",
    "\n",
    "  - We will combine the groups into same pool and shuffle.\n",
    "\n",
    "  - We draw out sample of 21 because number of Sessons in Web page A is 21 , then we draw out sample of 15 because number of session in web page B is 15.\n",
    "\n",
    "  - We than calculate difference in the mean between the resampled permuted group(Here the idea is we map the values(observed in orignal data) into groups A and B and do test statics and comapare with orignal data .This tells that if that values are produced due to effect or the values are in range of random variation)\n",
    "\n",
    "- Lets create a function which assigns random data points randomly to the group A and group B"
   ]
  },
  {
   "cell_type": "code",
   "execution_count": 4,
   "metadata": {},
   "outputs": [],
   "source": [
    "import random\n",
    "\n",
    "def perm_sampling(data,na,nb):\n",
    "    total_nos = na+nb\n",
    "    idx_b = set(random.sample(range(total_nos), nb))\n",
    "    # Here set is used to get non repeating index , random.sample gives a random item from data and.. parameter says here says that\n",
    "    # from range of data , take out samples randomly nb times\n",
    "    idx_a = set(range(total_nos)) - idx_b\n",
    "    \n",
    "    return data.loc[list(idx_b)].mean()-data.loc[list(idx_a)].mean()"
   ]
  },
  {
   "cell_type": "code",
   "execution_count": 5,
   "metadata": {},
   "outputs": [],
   "source": [
    "perm_mean_diff=[]\n",
    "for _ in range(10000):\n",
    "    perm_mean_diff.append(perm_sampling(session.Time,21,15))"
   ]
  },
  {
   "cell_type": "code",
   "execution_count": 6,
   "metadata": {},
   "outputs": [
    {
     "data": {
      "text/plain": [
       "<matplotlib.lines.Line2D at 0x7f25458bf4c0>"
      ]
     },
     "execution_count": 6,
     "metadata": {},
     "output_type": "execute_result"
    },
    {
     "data": {
      "image/png": "[encoded data removed]",
      "text/plain": [
       "<Figure size 640x480 with 1 Axes>"
      ]
     },
     "metadata": {},
     "output_type": "display_data"
    }
   ],
   "source": [
    "import matplotlib.pyplot as plt\n",
    "\n",
    "plt.hist(perm_mean_diff,bins=11)\n",
    "plt.axvline(obs_diff)"
   ]
  },
  {
   "cell_type": "markdown",
   "metadata": {},
   "source": [
    "- Observed mean difference of the population is 35 secs \n",
    "\n",
    "- By observing the histplot obs mean diffrence is well in the range of chance variation .Hence we accept the null hypothesis .That is diffrence between groups is just by chance and it is not statistically significant"
   ]
  }
 ],
 "metadata": {
  "kernelspec": {
   "display_name": "Python 3.10.6 64-bit",
   "language": "python",
   "name": "python3"
  },
  "language_info": {
   "codemirror_mode": {
    "name": "ipython",
    "version": 3
   },
   "file_extension": ".py",
   "mimetype": "text/x-python",
   "name": "python",
   "nbconvert_exporter": "python",
   "pygments_lexer": "ipython3",
   "version": "3.10.6 (main, Nov 14 2022, 16:10:14) [GCC 11.3.0]"
  },
  "orig_nbformat": 4,
  "vscode": {
   "interpreter": {
    "hash": "916dbcbb3f70747c44a77c7bcd40155683ae19c65e1c03b4aa3499c5328201f1"
   }
  }
 },
 "nbformat": 4,
 "nbformat_minor": 2
}
