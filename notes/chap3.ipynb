{
 "cells": [
  {
   "cell_type": "markdown",
   "metadata": {},
   "source": [
    "    CHAPTER 3 : STATSTICAL EXPERIMENTS AND SIGNIFICANCE TESTING"
   ]
  },
  {
   "cell_type": "markdown",
   "metadata": {},
   "source": [
    "    Inference pipeline"
   ]
  },
  {
   "cell_type": "markdown",
   "metadata": {},
   "source": [
    "From here Inferential statistics starts\n",
    "\n",
    "Statistical Inference pipeline\n",
    "\n",
    "1. Formulate Hypothesis\n",
    "\n",
    "2. Design Experiment\n",
    "\n",
    "3. Collect data\n",
    "\n",
    "4. Inference"
   ]
  },
  {
   "cell_type": "markdown",
   "metadata": {},
   "source": [
    "    Introduction "
   ]
  },
  {
   "cell_type": "markdown",
   "metadata": {},
   "source": [
    "Hypothesis is like a statement (A is better than B)\n",
    "\n",
    "Null  hypothesis the statement that we are trying to prove\n",
    "\n",
    "The goal of the experiment is to confirm or reject null hypothesis \n",
    "\n",
    "The conclusion is drawn from the experimention using the set of samples . These conclusion result is then applied to the larger population"
   ]
  },
  {
   "cell_type": "markdown",
   "metadata": {},
   "source": [
    "    A/B testing"
   ]
  },
  {
   "cell_type": "markdown",
   "metadata": {},
   "source": [
    "A/B testing is an experiment with two groups\n",
    "\n",
    "A/B testing is commonly used in marketing and web design\n",
    "\n",
    "Common Terms in A/B testing\n",
    "\n",
    "1. Subjects - Items that are exposed to treatment\n",
    "\n",
    "2. Treatment - Something which exposed to subject or a group\n",
    "\n",
    "3. Control group - group which is not exposed to treatment or already with default treament as everybody\n",
    "\n",
    "4. Test Statistic - The metric used to measure Treatent effect\n",
    "\n",
    "Ideally the Subject should be assigned randomly,hence we can know that difference between treatment groups cn be of two reason:\n",
    "\n",
    "1. Real effect of treatment\n",
    "\n",
    "2.  By chance or random variation\n",
    "\n",
    "Ideally the Test Statistics should be decided before the experimentation is conducted , when the test statistics are choosed after the experiment then oit genearally lead to researchers bais \n",
    "\n",
    "Test Statistics are used to compare two groups:\n",
    "1. categorical - 2x2 matrix (like confusion matrix) are used to determine binary outcomes like conversion or no conversion vs price A or priceB\n",
    "\n",
    "2. Continious - Mean and standard deviation is compared between two groups .for example  Price A :revenue/page = mean=45 ,SD = 5.5 and Price B :revenue /page = mean =50 ,SD = 6.7\n",
    "\n",
    "Control Group is required whenever it is not there because we cannot estimate the effect of treatement is real or by chance\n",
    "\n",
    "Tradition Statistics focus on the result of the treatment(wheather the result is by choice or effect of treatment ) but the data scientist is not that bothered of that because they are more inclined towards knowning that result a is better or the result b is better\n",
    "\n",
    "For example : \n",
    "\n",
    "1. Data scientist is less concerned of knowing that difference between Price A  and Price B is statistically Significant (is it by chance or effect of the treatment)\n",
    "\n",
    "2. Data scientist is more concerned towards knowing that is Price A is better or Price B is better , which one to choose!! \n",
    "\n",
    "    That is which one of the multiple prices are the best \n",
    "\n",
    "For the data scientist multi arm bandit experimentation is used more than A/B testing \n",
    "\n",
    "Key points :\n",
    "\n",
    "1. Subjects must be randomly selected and assigned to the groups \n",
    "\n",
    "2. Subjects assigned randomly to the two groups are coinsidered alike but only the treatment they undergo is different"
   ]
  },
  {
   "cell_type": "markdown",
   "metadata": {},
   "source": [
    "    Hypothesis tests"
   ]
  },
  {
   "cell_type": "markdown",
   "metadata": {},
   "source": [
    "Hypothesis Testing is used everywhere in the traditional statistics \n",
    "\n",
    "Hypothesis testing is futher process of A/B testing to check wheather there is random behaviour affecting the result\n",
    "\n",
    "General human tendency is to under estimate natural ramdomn behaviour\n",
    "\n",
    "1. One event of this isthe  failure to anticipate black swan\n",
    "\n",
    "2. Another event is to misinterpt that the rambomn events as having pattern of significance\n",
    "\n",
    "Hypothesis testing is the test to check whether random chance ,might be responsible for observing the effect (result from the experimentation)\n",
    "\n",
    "Null hypothesis -The statement we are trying to prove\n",
    "\n",
    "Alternate hypothesis - The counterpoint statement to the null hyothesis\n",
    "\n",
    "One tail(way) test - Hypothesis test that counts chances results only in one direction\n",
    "\n",
    "Two tail(way) test -Hypothesis test that counts chances results in both direction"
   ]
  },
  {
   "cell_type": "code",
   "execution_count": 1,
   "metadata": {},
   "outputs": [],
   "source": [
    "import pandas as pd\n",
    "\n",
    "session_path=\"/home/anish/plan/practical_statistics_notes/data/web_page_data.csv\"\n",
    "# experiment result of session time from page a and page b\n",
    "session=pd.read_csv(session_path)"
   ]
  },
  {
   "cell_type": "code",
   "execution_count": 11,
   "metadata": {},
   "outputs": [
    {
     "data": {
      "text/plain": [
       "0.3566666666666669"
      ]
     },
     "execution_count": 11,
     "metadata": {},
     "output_type": "execute_result"
    }
   ],
   "source": [
    "page_a=session[session.Page == \"Page A\"]\n",
    "page_b=session[session.Page == \"Page B\"]\n",
    "\n",
    "diff=page_b.Time.mean()-page_a.Time.mean()\n",
    "diff"
   ]
  },
  {
   "cell_type": "code",
   "execution_count": 19,
   "metadata": {},
   "outputs": [
    {
     "data": {
      "text/plain": [
       "<AxesSubplot: xlabel='Page', ylabel='Time'>"
      ]
     },
     "execution_count": 19,
     "metadata": {},
     "output_type": "execute_result"
    },
    {
     "data": {
      "image/png": "[encoded data removed]",
      "text/plain": [
       "<Figure size 640x480 with 1 Axes>"
      ]
     },
     "metadata": {},
     "output_type": "display_data"
    }
   ],
   "source": [
    "import seaborn as sns\n",
    "\n",
    "sns.boxplot(x=session.Page,y=session.Time)"
   ]
  },
  {
   "cell_type": "code",
   "execution_count": null,
   "metadata": {},
   "outputs": [],
   "source": []
  }
 ],
 "metadata": {
  "kernelspec": {
   "display_name": "Python 3.10.6 64-bit",
   "language": "python",
   "name": "python3"
  },
  "language_info": {
   "codemirror_mode": {
    "name": "ipython",
    "version": 3
   },
   "file_extension": ".py",
   "mimetype": "text/x-python",
   "name": "python",
   "nbconvert_exporter": "python",
   "pygments_lexer": "ipython3",
   "version": "3.10.6"
  },
  "orig_nbformat": 4,
  "vscode": {
   "interpreter": {
    "hash": "916dbcbb3f70747c44a77c7bcd40155683ae19c65e1c03b4aa3499c5328201f1"
   }
  }
 },
 "nbformat": 4,
 "nbformat_minor": 2
}
