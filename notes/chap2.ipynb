{
 "cells": [
  {
   "cell_type": "markdown",
   "metadata": {},
   "source": [
    "    CHAPTER 2 : DATA AND SAMPLING DISTRIBUTIONS"
   ]
  },
  {
   "cell_type": "markdown",
   "metadata": {},
   "source": [
    "Population means the whole data  .. generally the large data set\n",
    "\n",
    "Sample means the subset data from the population"
   ]
  },
  {
   "cell_type": "markdown",
   "metadata": {},
   "source": [
    "Random sampling means that each member of the sample has equal probability to get chosen.\n",
    "\n",
    "Sampling with replacement means population member that is once chosen for a sample ..  is put back to the population to get another sample and the same population member have chance to get chosen once again\n",
    "\n",
    "Sampling concept is used in cross validation step to get sample of random or stratified sampling\n",
    "\n",
    "Dividing the population into strata and randomly sampling from each strata.(strata means homogenous subgroup of population with common characteristics)\n",
    "\n",
    "Bias-means leaning towards some representation which does not represent the population correctly \n",
    "for example taking only feedback from the rich.. deviates from population as it contains poor and middle class people"
   ]
  },
  {
   "cell_type": "markdown",
   "metadata": {},
   "source": [
    "Statistical bais refer to the  sampling error that are systematic that is produced by the measurement process(taking feedback from only the rich) or by bias error occuring through the sampling(feedback is taken from all but the sampling is done such that it contains on ly rich people)"
   ]
  },
  {
   "cell_type": "markdown",
   "metadata": {},
   "source": [
    "Random sampling error is also an error but there is no systematic pattern to it"
   ]
  },
  {
   "cell_type": "markdown",
   "metadata": {},
   "source": [
    "Always try to prefer the quality data over the quantity data\n",
    "\n",
    "A true big data problem is like search engine of google where more queries(quiers are stored as a records) helps to give out better results"
   ]
  },
  {
   "cell_type": "code",
   "execution_count": null,
   "metadata": {},
   "outputs": [],
   "source": []
  }
 ],
 "metadata": {
  "kernelspec": {
   "display_name": "Python 3.10.6 64-bit",
   "language": "python",
   "name": "python3"
  },
  "language_info": {
   "name": "python",
   "version": "3.10.6"
  },
  "orig_nbformat": 4,
  "vscode": {
   "interpreter": {
    "hash": "916dbcbb3f70747c44a77c7bcd40155683ae19c65e1c03b4aa3499c5328201f1"
   }
  }
 },
 "nbformat": 4,
 "nbformat_minor": 2
}
