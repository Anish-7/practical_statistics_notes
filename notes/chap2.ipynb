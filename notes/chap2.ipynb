{
 "cells": [
  {
   "cell_type": "markdown",
   "metadata": {},
   "source": [
    "    CHAPTER 2 : DATA AND SAMPLING DISTRIBUTIONS"
   ]
  },
  {
   "cell_type": "markdown",
   "metadata": {},
   "source": [
    "Population means the whole data  .. generally the large data set\n",
    "\n",
    "Sample means the subset data from the population"
   ]
  },
  {
   "cell_type": "markdown",
   "metadata": {},
   "source": [
    "Random sampling means that each member of the sample has equal probability to get chosen.\n",
    "\n",
    "Sampling with replacement means population member that is once chosen for a sample ..  is put back to the population to get another sample and the same population member have chance to get chosen once again\n",
    "\n",
    "Sampling concept is used in cross validation step to get sample of random or stratified sampling\n",
    "\n",
    "Dividing the population into strata and randomly sampling from each strata.(strata means homogenous subgroup of population with common characteristics)\n",
    "\n",
    "Bias-means leaning towards some representation which does not represent the population correctly \n",
    "for example taking only feedback from the rich.. deviates from population as it contains poor and middle class people"
   ]
  },
  {
   "cell_type": "markdown",
   "metadata": {},
   "source": [
    "    BIAS"
   ]
  },
  {
   "cell_type": "markdown",
   "metadata": {},
   "source": [
    "Statistical bais refer to the  sampling error that are systematic that is produced by the measurement process(taking feedback from only the rich) or by bias error occuring through the sampling(feedback is taken from all but the sampling is done such that it contains on ly rich people)"
   ]
  },
  {
   "cell_type": "markdown",
   "metadata": {},
   "source": [
    "Random sampling error is also an error but there is no systematic pattern to it"
   ]
  },
  {
   "cell_type": "markdown",
   "metadata": {},
   "source": [
    "     Quality vs quantity "
   ]
  },
  {
   "cell_type": "markdown",
   "metadata": {},
   "source": [
    "Always try to prefer the quality data over the quantity data\n",
    "\n",
    "A true big data problem is like search engine of google where more queries(quiers are stored as a records) helps to give out better results"
   ]
  },
  {
   "cell_type": "markdown",
   "metadata": {},
   "source": [
    "myu- Greek symbol is the mean of the population\n",
    "x bar is the symbol tht represents the mean of the sample "
   ]
  },
  {
   "cell_type": "markdown",
   "metadata": {},
   "source": [
    "     Sampling Distribution of a statistic"
   ]
  },
  {
   "cell_type": "markdown",
   "metadata": {},
   "source": [
    "Sample Statistic - here it means that metric used that cn be mean , median , or standard deviation\n",
    "\n",
    "Data Distribution - frequency distribution of the each value of the dataset\n",
    "\n",
    "Sampling distribution- frequency distribution of some sample statistic( like standard deviation, mean) drawn over many sample set or resamples from the same popultion\n",
    "\n",
    "Typically the model is built from the samples and not from the population \n",
    "\n",
    "There might be some error in the model as it is based on the sample that is trained on ,We can evaluate the performance by testing out from the different sample set\n",
    "\n",
    "Here we will prove that plot of original data plot is more skewed positively(right side)\n",
    "\n",
    "The distribution of a sample statistic such as the mean is likely to be more regular and bell-shaped than the distribution of the data itself. \n",
    "\n",
    "The larger the sample the statistic is based on, the more it is normal or bell shaped curve . Also, the larger the sample, the narrower the distribution of the sample statistic."
   ]
  },
  {
   "cell_type": "code",
   "execution_count": 4,
   "metadata": {},
   "outputs": [],
   "source": [
    "import pandas as pd\n",
    "import seaborn as sns"
   ]
  },
  {
   "cell_type": "code",
   "execution_count": 10,
   "metadata": {},
   "outputs": [
    {
     "data": {
      "text/html": [
       "<div>\n",
       "<style scoped>\n",
       "    .dataframe tbody tr th:only-of-type {\n",
       "        vertical-align: middle;\n",
       "    }\n",
       "\n",
       "    .dataframe tbody tr th {\n",
       "        vertical-align: top;\n",
       "    }\n",
       "\n",
       "    .dataframe thead th {\n",
       "        text-align: right;\n",
       "    }\n",
       "</style>\n",
       "<table border=\"1\" class=\"dataframe\">\n",
       "  <thead>\n",
       "    <tr style=\"text-align: right;\">\n",
       "      <th></th>\n",
       "      <th>x</th>\n",
       "    </tr>\n",
       "  </thead>\n",
       "  <tbody>\n",
       "    <tr>\n",
       "      <th>0</th>\n",
       "      <td>67000</td>\n",
       "    </tr>\n",
       "    <tr>\n",
       "      <th>1</th>\n",
       "      <td>52000</td>\n",
       "    </tr>\n",
       "    <tr>\n",
       "      <th>2</th>\n",
       "      <td>100000</td>\n",
       "    </tr>\n",
       "    <tr>\n",
       "      <th>3</th>\n",
       "      <td>78762</td>\n",
       "    </tr>\n",
       "    <tr>\n",
       "      <th>4</th>\n",
       "      <td>37041</td>\n",
       "    </tr>\n",
       "    <tr>\n",
       "      <th>...</th>\n",
       "      <td>...</td>\n",
       "    </tr>\n",
       "    <tr>\n",
       "      <th>49995</th>\n",
       "      <td>40000</td>\n",
       "    </tr>\n",
       "    <tr>\n",
       "      <th>49996</th>\n",
       "      <td>54000</td>\n",
       "    </tr>\n",
       "    <tr>\n",
       "      <th>49997</th>\n",
       "      <td>50000</td>\n",
       "    </tr>\n",
       "    <tr>\n",
       "      <th>49998</th>\n",
       "      <td>82000</td>\n",
       "    </tr>\n",
       "    <tr>\n",
       "      <th>49999</th>\n",
       "      <td>70000</td>\n",
       "    </tr>\n",
       "  </tbody>\n",
       "</table>\n",
       "<p>50000 rows × 1 columns</p>\n",
       "</div>"
      ],
      "text/plain": [
       "            x\n",
       "0       67000\n",
       "1       52000\n",
       "2      100000\n",
       "3       78762\n",
       "4       37041\n",
       "...       ...\n",
       "49995   40000\n",
       "49996   54000\n",
       "49997   50000\n",
       "49998   82000\n",
       "49999   70000\n",
       "\n",
       "[50000 rows x 1 columns]"
      ]
     },
     "execution_count": 10,
     "metadata": {},
     "output_type": "execute_result"
    }
   ],
   "source": [
    "path='/home/anish/plan/practical_statistics_notes/data/loans_income.csv'\n",
    "loans_income=pd.read_csv(path)\n",
    "loans_income=loans_income\n",
    "loans_income"
   ]
  },
  {
   "cell_type": "code",
   "execution_count": 17,
   "metadata": {},
   "outputs": [
    {
     "data": {
      "text/plain": [
       "<seaborn.axisgrid.FacetGrid at 0x7fa79c65e170>"
      ]
     },
     "execution_count": 17,
     "metadata": {},
     "output_type": "execute_result"
    },
    {
     "data": {
      "image/png": "[encoded data removed]",
      "text/plain": [
       "<Figure size 600x600 with 3 Axes>"
      ]
     },
     "metadata": {},
     "output_type": "display_data"
    }
   ],
   "source": [
    "data_sample=pd.DataFrame({'income':loans_income.x.sample(1000),'type': 'data distribution'})\n",
    "\n",
    "m5=[loans_income.x.sample(5).mean() for _ in range(1000)]\n",
    "mean_5=pd.DataFrame({'income':m5,'type':'sampling distribution of mean of 5 values'})\n",
    "\n",
    "m20=[loans_income.x.sample(20).mean() for _ in range(1000)]\n",
    "mean_20=pd.DataFrame({'income':m20,'type':'sampling distribution of mean of 20 values'})\n",
    "\n",
    "res=pd.concat([data_sample,mean_5,mean_20])\n",
    "gridplot=sns.FacetGrid(res,col='type',col_wrap=2)\n",
    "\n",
    "gridplot.map(sns.histplot,'income',)"
   ]
  },
  {
   "cell_type": "markdown",
   "metadata": {},
   "source": [
    "     Central limit theorem - \n",
    "\n",
    "Tendency of a sampling distribution to take normal or bell shaped curve\n",
    "\n",
    "The phenomenon from above graph is termed the central limit theorem. It says that the means drawn from multiple samples will resemble the \n",
    "familiar bell-shaped normal curve"
   ]
  },
  {
   "cell_type": "markdown",
   "metadata": {},
   "source": [
    "Standard deviation -measure of the variablity of indivisual data points \n",
    "\n",
    "Standard error - measure of variability of the different sample set\n",
    "it is measured by calculating standard deviation of the indivisual data points in a sample set adn divide it by root of the number of samples\n",
    "standard error =s/root(n)"
   ]
  },
  {
   "cell_type": "code",
   "execution_count": null,
   "metadata": {},
   "outputs": [],
   "source": []
  }
 ],
 "metadata": {
  "kernelspec": {
   "display_name": "Python 3.10.6 64-bit",
   "language": "python",
   "name": "python3"
  },
  "language_info": {
   "codemirror_mode": {
    "name": "ipython",
    "version": 3
   },
   "file_extension": ".py",
   "mimetype": "text/x-python",
   "name": "python",
   "nbconvert_exporter": "python",
   "pygments_lexer": "ipython3",
   "version": "3.10.6"
  },
  "orig_nbformat": 4,
  "vscode": {
   "interpreter": {
    "hash": "916dbcbb3f70747c44a77c7bcd40155683ae19c65e1c03b4aa3499c5328201f1"
   }
  }
 },
 "nbformat": 4,
 "nbformat_minor": 2
}
